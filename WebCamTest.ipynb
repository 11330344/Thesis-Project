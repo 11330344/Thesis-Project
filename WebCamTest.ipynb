{
  "nbformat": 4,
  "nbformat_minor": 0,
  "metadata": {
    "colab": {
      "provenance": [],
      "include_colab_link": true
    },
    "kernelspec": {
      "name": "python3",
      "display_name": "Python 3"
    },
    "language_info": {
      "name": "python"
    }
  },
  "cells": [
    {
      "cell_type": "markdown",
      "metadata": {
        "id": "view-in-github",
        "colab_type": "text"
      },
      "source": [
        "<a href=\"https://colab.research.google.com/github/11330344/Thesis-Project/blob/main/webcamtest.ipynb\" target=\"_parent\"><img src=\"https://colab.research.google.com/assets/colab-badge.svg\" alt=\"Open In Colab\"/></a>"
      ]
    },
    {
      "cell_type": "code",
      "source": [
        "from google.colab import drive\n",
        "drive.mount('/content/drive')"
      ],
      "metadata": {
        "colab": {
          "base_uri": "https://localhost:8080/"
        },
        "id": "hJ8_TcvI8XoL",
        "outputId": "fe12b328-614a-4213-e369-061f340af67a"
      },
      "execution_count": null,
      "outputs": [
        {
          "output_type": "stream",
          "name": "stdout",
          "text": [
            "Mounted at /content/drive\n"
          ]
        }
      ]
    },
    {
      "cell_type": "code",
      "source": [
        "import cv2\n",
        "from google.colab.patches import cv2_imshow\n",
        "\n",
        "# Try different camera indices\n",
        "for i in range(5):\n",
        "    cap = cv2.VideoCapture(i)\n",
        "\n",
        "    # Check if the camera was opened successfully\n",
        "    if cap.isOpened():\n",
        "        print(f\"Camera found at index {i}\")\n",
        "        break\n",
        "    else:\n",
        "        print(f\"No camera found at index {i}\")\n",
        "\n",
        "# Check if no camera was found\n",
        "if not cap.isOpened():\n",
        "    print(\"Error: Could not open any camera.\")\n",
        "else:\n",
        "    while True:\n",
        "        # Capture frame-by-frame\n",
        "        ret, frame = cap.read()\n",
        "\n",
        "        # Check if the frame was captured successfully\n",
        "        if not ret:\n",
        "            print(\"Error: Failed to capture frame.\")\n",
        "            break\n",
        "\n",
        "        # Display the captured frame\n",
        "        cv2_imshow(frame)\n",
        "\n",
        "        # Check if the user pressed the 'q' key to exit the loop\n",
        "        if cv2.waitKey(1) & 0xFF == ord('q'):\n",
        "            break\n",
        "\n",
        "# Release the VideoCapture object and close the OpenCV windows\n",
        "cap.release()\n",
        "cv2.destroyAllWindows()\n",
        "\n"
      ],
      "metadata": {
        "colab": {
          "base_uri": "https://localhost:8080/"
        },
        "id": "8xFTonD4_YOS",
        "outputId": "4c9be20e-cf49-45df-8363-4259abe218af"
      },
      "execution_count": null,
      "outputs": [
        {
          "output_type": "stream",
          "name": "stdout",
          "text": [
            "No camera found at index 0\n",
            "No camera found at index 1\n",
            "No camera found at index 2\n",
            "No camera found at index 3\n",
            "No camera found at index 4\n",
            "Error: Could not open any camera.\n"
          ]
        }
      ]
    }
  ]
}