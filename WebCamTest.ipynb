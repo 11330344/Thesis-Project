{
  "nbformat": 4,
  "nbformat_minor": 0,
  "metadata": {
    "colab": {
      "provenance": []
    },
    "kernelspec": {
      "name": "python3",
      "display_name": "Python 3"
    },
    "language_info": {
      "name": "python"
    }
  },
  "cells": [
    {
      "cell_type": "code",
      "execution_count": 2,
      "metadata": {
        "id": "D2RGGQpKHUtY"
      },
      "outputs": [],
      "source": [
        "import cv2\n",
        "import numpy as np\n",
        "from tensorflow.keras.models import load_model\n",
        "from google.colab.patches import cv2_imshow\n",
        "\n",
        "# Load your pre-trained model\n",
        "model = load_model('/content/drive/MyDrive/Thesis2024/model_filter.h5')  # Replace 'your_model_path.h5' with the path to your trained model\n",
        "\n",
        "# Function to predict emotion from an image\n",
        "def predict_emotion(image):\n",
        "    # Preprocess the image\n",
        "    image = cv2.cvtColor(image, cv2.COLOR_BGR2GRAY)\n",
        "    image = cv2.resize(image, (48, 48))\n",
        "    image = np.expand_dims(image, axis=0)\n",
        "    image = np.expand_dims(image, axis=-1)\n",
        "    image = image / 255.0\n",
        "\n",
        "    # Predict emotion\n",
        "    prediction = model.predict(image)\n",
        "    emotion_label = np.argmax(prediction)\n",
        "    return emotion_label\n",
        "\n",
        "# Access webcam\n",
        "cap = cv2.VideoCapture(0)\n",
        "\n",
        "# Infinite loop to capture frames from the webcam\n",
        "while True:\n",
        "    ret, frame = cap.read()  # Read frame\n",
        "    if not ret:\n",
        "        break\n",
        "\n",
        "    # Perform emotion prediction on the frame\n",
        "    emotion_label = predict_emotion(frame)\n",
        "\n",
        "    # Display the frame with the predicted emotion\n",
        "    cv2.putText(frame, \"Emotion: \" + str(emotion_label), (10, 30), cv2.FONT_HERSHEY_SIMPLEX, 1, (0, 255, 0), 2)\n",
        "    cv2_imshow(frame)\n",
        "\n",
        "    # Break the loop if 'q' is pressed\n",
        "    if cv2.waitKey(1) & 0xFF == ord('q'):\n",
        "        break\n",
        "\n",
        "# Release the webcam and close all windows\n",
        "cap.release()\n",
        "cv2.destroyAllWindows()\n"
      ]
    }
  ]
}